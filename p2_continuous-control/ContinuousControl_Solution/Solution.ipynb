{
 "cells": [
  {
   "cell_type": "markdown",
   "metadata": {},
   "source": [
    "# Continuous Control Project Solution\n",
    "\n",
    "---\n",
    "\n",
    "**Author:** _Ioannis Souflas_\n",
    "\n",
    "\n",
    "**Description:**\n",
    "The objective of this project is to train a Deep Deterministic Policy Gradient (DDPG) agent to control robotic arms using Unity's [Reacher](https://github.com/Unity-Technologies/ml-agents/blob/master/docs/Learning-Environment-Examples.md#reacher) enviroment to maintain in contact with the green spheres.\n",
    "\n",
    "**External References:** [DDPG Algorithm - DeepMind](https://arxiv.org/pdf/1509.02971.pdf) \n",
    "\n",
    "### 1. Start the Environment\n",
    "\n",
    "We begin by importing the necessary packages.  If the code cell below returns an error, please that you have installed [Unity ML-Agents](https://pypi.org/project/unityagents/), [NumPy](http://www.numpy.org/), [Matplotlib](https://matplotlib.org/), [Collections](https://docs.python.org/2/library/collections.html), [Random](https://docs.python.org/2/library/random.html), [Time](https://docs.python.org/2/library/time.html) and [PyTorch](https://pytorch.org/)."
   ]
  },
  {
   "cell_type": "code",
   "execution_count": 1,
   "metadata": {},
   "outputs": [],
   "source": [
    "from unityagents import UnityEnvironment \n",
    "import numpy as np \n",
    "import matplotlib.pyplot as plt\n",
    "from collections import deque\n",
    "import random\n",
    "import time\n",
    "import torch\n",
    "\n",
    "# ddpg algorithm\n",
    "from ddpg_agent import Agent"
   ]
  },
  {
   "cell_type": "markdown",
   "metadata": {},
   "source": [
    "Next, we will start the environment!  **_Before running the code cell below_**, change the `file_name` parameter to match the location of the Unity environment that you downloaded.\n",
    "\n",
    "- **Mac**: `\"path/to/Reacher.app\"`\n",
    "- **Windows** (x86): `\"path/to/Reacher_Windows_x86/Reacher.exe\"`\n",
    "- **Windows** (x86_64): `\"path/to/Reacher_Windows_x86_64/Reacher.exe\"`\n",
    "- **Linux** (x86): `\"path/to/Reacher_Linux/Reacher.x86\"`\n",
    "- **Linux** (x86_64): `\"path/to/Reacher_Linux/Reacher.x86_64\"`\n",
    "- **Linux** (x86, headless): `\"path/to/Reacher_Linux_NoVis/Reacher.x86\"`\n",
    "- **Linux** (x86_64, headless): `\"path/to/Reacher_Linux_NoVis/Reacher.x86_64\"`\n",
    "\n",
    "For instance, if you are using a Mac, then you downloaded `Reacher.app`.  If this file is in the same folder as the notebook, then the line below should appear as follows:\n",
    "```\n",
    "env = UnityEnvironment(file_name=\"Reacher.app\")\n",
    "```\n",
    "\n",
    "The current configuration is **Linux** (x86_64, headless)."
   ]
  },
  {
   "cell_type": "code",
   "execution_count": 2,
   "metadata": {},
   "outputs": [
    {
     "name": "stderr",
     "output_type": "stream",
     "text": [
      "INFO:unityagents:\n",
      "'Academy' started successfully!\n",
      "Unity Academy name: Academy\n",
      "        Number of Brains: 1\n",
      "        Number of External Brains : 1\n",
      "        Lesson number : 0\n",
      "        Reset Parameters :\n",
      "\t\tgoal_speed -> 1.0\n",
      "\t\tgoal_size -> 5.0\n",
      "Unity brain name: ReacherBrain\n",
      "        Number of Visual Observations (per agent): 0\n",
      "        Vector Observation space type: continuous\n",
      "        Vector Observation space size (per agent): 33\n",
      "        Number of stacked Vector Observation: 1\n",
      "        Vector Action space type: continuous\n",
      "        Vector Action space size (per agent): 4\n",
      "        Vector Action descriptions: , , , \n"
     ]
    }
   ],
   "source": [
    "env = UnityEnvironment(file_name=\"../../p2_continuous-control/Reacher_Linux_NoVis/Reacher.x86_64\")"
   ]
  },
  {
   "cell_type": "markdown",
   "metadata": {},
   "source": [
    "Environments contain **_brains_** which are responsible for deciding the actions of their associated agents. Here we check for the first brain available, and set it as the default brain we will be controlling from Python."
   ]
  },
  {
   "cell_type": "code",
   "execution_count": 3,
   "metadata": {},
   "outputs": [],
   "source": [
    "# get the default brain\n",
    "brain_name = env.brain_names[0]\n",
    "brain = env.brains[brain_name]"
   ]
  },
  {
   "cell_type": "markdown",
   "metadata": {},
   "source": [
    "### 2. Examine the State and Action Spaces\n",
    "\n",
    "In this environment, a double-jointed arm can move to target locations. A reward of `+0.1` is provided for each step that the agent's hand is in the goal location. Thus, the goal of your agent is to maintain its position at the target location for as many time steps as possible.\n",
    "\n",
    "The observation space consists of `33` variables corresponding to position, rotation, velocity, and angular velocities of the arm.  Each action is a vector with four numbers, corresponding to torque applicable to two joints.  Every entry in the action vector must be a number between `-1` and `1`.\n",
    "\n",
    "Run the code cell below to print some information about the environment."
   ]
  },
  {
   "cell_type": "code",
   "execution_count": 4,
   "metadata": {},
   "outputs": [
    {
     "name": "stdout",
     "output_type": "stream",
     "text": [
      "Number of agents: 20\n",
      "Size of each action: 4\n",
      "There are 20 agents. Each observes a state with length: 33\n",
      "The shape of the state space looks like: (20, 33)\n",
      "The state for the first agent looks like: [ 0.00000000e+00 -4.00000000e+00  0.00000000e+00  1.00000000e+00\n",
      " -0.00000000e+00 -0.00000000e+00 -4.37113883e-08  0.00000000e+00\n",
      "  0.00000000e+00  0.00000000e+00  0.00000000e+00  0.00000000e+00\n",
      "  0.00000000e+00  0.00000000e+00 -1.00000000e+01  0.00000000e+00\n",
      "  1.00000000e+00 -0.00000000e+00 -0.00000000e+00 -4.37113883e-08\n",
      "  0.00000000e+00  0.00000000e+00  0.00000000e+00  0.00000000e+00\n",
      "  0.00000000e+00  0.00000000e+00  5.75471878e+00 -1.00000000e+00\n",
      "  5.55726624e+00  0.00000000e+00  1.00000000e+00  0.00000000e+00\n",
      " -1.68164849e-01]\n"
     ]
    }
   ],
   "source": [
    "# reset the environment\n",
    "env_info = env.reset(train_mode=True)[brain_name]\n",
    "\n",
    "# number of agents\n",
    "num_agents = len(env_info.agents)\n",
    "print('Number of agents:', num_agents)\n",
    "\n",
    "# size of each action\n",
    "action_size = brain.vector_action_space_size\n",
    "print('Size of each action:', action_size)\n",
    "\n",
    "# examine the state space \n",
    "states = env_info.vector_observations\n",
    "state_size = states.shape[1]\n",
    "print('There are {} agents. Each observes a state with length: {}'.format(states.shape[0], state_size))\n",
    "print('The shape of the state space looks like:', states.shape)\n",
    "print('The state for the first agent looks like:', states[0])"
   ]
  },
  {
   "cell_type": "markdown",
   "metadata": {},
   "source": [
    "Note that this enviroment consists of 20 agents, as a results there are 20 different state observations,~ one for each agent."
   ]
  },
  {
   "cell_type": "markdown",
   "metadata": {},
   "source": [
    "### 3. DDPG Agent Training Pipeline\n",
    "\n",
    "The `ddpg` function is making use of the `Agent` class in order to train the agent. Note that the following configuration can be used for both the single and multi (20) agent enviroment."
   ]
  },
  {
   "cell_type": "code",
   "execution_count": 5,
   "metadata": {},
   "outputs": [
    {
     "name": "stdout",
     "output_type": "stream",
     "text": [
      "Episode 1\tMean over an Episode: 0.8\tMoving Average: 0.8\n",
      "Episode 2\tMean over an Episode: 2.0\tMoving Average: 1.4\n",
      "Episode 3\tMean over an Episode: 3.9\tMoving Average: 2.2\n",
      "Episode 4\tMean over an Episode: 4.7\tMoving Average: 2.9\n",
      "Episode 5\tMean over an Episode: 5.1\tMoving Average: 3.3\n",
      "Episode 6\tMean over an Episode: 7.0\tMoving Average: 3.9\n",
      "Episode 7\tMean over an Episode: 7.0\tMoving Average: 4.4\n",
      "Episode 8\tMean over an Episode: 7.7\tMoving Average: 4.8\n",
      "Episode 9\tMean over an Episode: 8.8\tMoving Average: 5.2\n",
      "Episode 10\tMean over an Episode: 9.5\tMoving Average: 5.6\n",
      "Episode 11\tMean over an Episode: 10.0\tMoving Average: 6.0\n",
      "Episode 12\tMean over an Episode: 11.4\tMoving Average: 6.5\n",
      "Episode 13\tMean over an Episode: 11.5\tMoving Average: 6.9\n",
      "Episode 14\tMean over an Episode: 14.2\tMoving Average: 7.4\n",
      "Episode 15\tMean over an Episode: 13.7\tMoving Average: 7.8\n",
      "Episode 16\tMean over an Episode: 13.1\tMoving Average: 8.1\n",
      "Episode 17\tMean over an Episode: 14.2\tMoving Average: 8.5\n",
      "Episode 18\tMean over an Episode: 15.8\tMoving Average: 8.9\n",
      "Episode 19\tMean over an Episode: 15.5\tMoving Average: 9.3\n",
      "Episode 20\tMean over an Episode: 17.2\tMoving Average: 9.7\n",
      "Episode 21\tMean over an Episode: 19.5\tMoving Average: 10.1\n",
      "Episode 22\tMean over an Episode: 17.0\tMoving Average: 10.4\n",
      "Episode 23\tMean over an Episode: 19.9\tMoving Average: 10.8\n",
      "Episode 24\tMean over an Episode: 20.2\tMoving Average: 11.2\n",
      "Episode 25\tMean over an Episode: 20.2\tMoving Average: 11.6\n",
      "Episode 26\tMean over an Episode: 20.7\tMoving Average: 11.9\n",
      "Episode 27\tMean over an Episode: 20.1\tMoving Average: 12.2\n",
      "Episode 28\tMean over an Episode: 20.6\tMoving Average: 12.5\n",
      "Episode 29\tMean over an Episode: 22.2\tMoving Average: 12.9\n",
      "Episode 30\tMean over an Episode: 19.9\tMoving Average: 13.1\n",
      "Episode 31\tMean over an Episode: 21.2\tMoving Average: 13.4\n",
      "Episode 32\tMean over an Episode: 21.2\tMoving Average: 13.6\n",
      "Episode 33\tMean over an Episode: 21.7\tMoving Average: 13.9\n",
      "Episode 34\tMean over an Episode: 25.6\tMoving Average: 14.2\n",
      "Episode 35\tMean over an Episode: 24.6\tMoving Average: 14.5\n",
      "Episode 36\tMean over an Episode: 24.5\tMoving Average: 14.8\n",
      "Episode 37\tMean over an Episode: 27.2\tMoving Average: 15.1\n",
      "Episode 38\tMean over an Episode: 25.8\tMoving Average: 15.4\n",
      "Episode 39\tMean over an Episode: 26.2\tMoving Average: 15.7\n",
      "Episode 40\tMean over an Episode: 28.7\tMoving Average: 16.0\n",
      "Episode 41\tMean over an Episode: 28.7\tMoving Average: 16.3\n",
      "Episode 42\tMean over an Episode: 29.0\tMoving Average: 16.6\n",
      "Episode 43\tMean over an Episode: 32.3\tMoving Average: 17.0\n",
      "Episode 44\tMean over an Episode: 30.7\tMoving Average: 17.3\n",
      "Episode 45\tMean over an Episode: 31.5\tMoving Average: 17.6\n",
      "Episode 46\tMean over an Episode: 28.8\tMoving Average: 17.8\n",
      "Episode 47\tMean over an Episode: 29.1\tMoving Average: 18.1\n",
      "Episode 48\tMean over an Episode: 28.8\tMoving Average: 18.3\n",
      "Episode 49\tMean over an Episode: 31.0\tMoving Average: 18.6\n",
      "Episode 50\tMean over an Episode: 30.6\tMoving Average: 18.8\n",
      "Episode 51\tMean over an Episode: 31.5\tMoving Average: 19.1\n",
      "Episode 52\tMean over an Episode: 29.7\tMoving Average: 19.3\n",
      "Episode 53\tMean over an Episode: 30.5\tMoving Average: 19.5\n",
      "Episode 54\tMean over an Episode: 29.2\tMoving Average: 19.7\n",
      "Episode 55\tMean over an Episode: 30.3\tMoving Average: 19.8\n",
      "Episode 56\tMean over an Episode: 30.6\tMoving Average: 20.0\n",
      "Episode 57\tMean over an Episode: 31.3\tMoving Average: 20.2\n",
      "Episode 58\tMean over an Episode: 32.5\tMoving Average: 20.4\n",
      "Episode 59\tMean over an Episode: 31.0\tMoving Average: 20.6\n",
      "Episode 60\tMean over an Episode: 32.1\tMoving Average: 20.8\n",
      "Episode 61\tMean over an Episode: 33.5\tMoving Average: 21.0\n",
      "Episode 62\tMean over an Episode: 34.0\tMoving Average: 21.2\n",
      "Episode 63\tMean over an Episode: 32.9\tMoving Average: 21.4\n",
      "Episode 64\tMean over an Episode: 32.2\tMoving Average: 21.6\n",
      "Episode 65\tMean over an Episode: 32.2\tMoving Average: 21.8\n",
      "Episode 66\tMean over an Episode: 32.8\tMoving Average: 21.9\n",
      "Episode 67\tMean over an Episode: 34.4\tMoving Average: 22.1\n",
      "Episode 68\tMean over an Episode: 32.5\tMoving Average: 22.3\n",
      "Episode 69\tMean over an Episode: 33.4\tMoving Average: 22.4\n",
      "Episode 70\tMean over an Episode: 33.8\tMoving Average: 22.6\n",
      "Episode 71\tMean over an Episode: 34.0\tMoving Average: 22.7\n",
      "Episode 72\tMean over an Episode: 34.9\tMoving Average: 22.9\n",
      "Episode 73\tMean over an Episode: 35.0\tMoving Average: 23.1\n",
      "Episode 74\tMean over an Episode: 33.1\tMoving Average: 23.2\n",
      "Episode 75\tMean over an Episode: 34.0\tMoving Average: 23.4\n",
      "Episode 76\tMean over an Episode: 33.8\tMoving Average: 23.5\n",
      "Episode 77\tMean over an Episode: 35.5\tMoving Average: 23.7\n",
      "Episode 78\tMean over an Episode: 34.5\tMoving Average: 23.8\n",
      "Episode 79\tMean over an Episode: 33.7\tMoving Average: 23.9\n",
      "Episode 80\tMean over an Episode: 35.6\tMoving Average: 24.1\n",
      "Episode 81\tMean over an Episode: 35.1\tMoving Average: 24.2\n",
      "Episode 82\tMean over an Episode: 34.2\tMoving Average: 24.3\n",
      "Episode 83\tMean over an Episode: 34.1\tMoving Average: 24.4\n",
      "Episode 84\tMean over an Episode: 34.4\tMoving Average: 24.6\n",
      "Episode 85\tMean over an Episode: 34.3\tMoving Average: 24.7\n",
      "Episode 86\tMean over an Episode: 33.7\tMoving Average: 24.8\n",
      "Episode 87\tMean over an Episode: 34.5\tMoving Average: 24.9\n",
      "Episode 88\tMean over an Episode: 33.5\tMoving Average: 25.0\n",
      "Episode 89\tMean over an Episode: 34.1\tMoving Average: 25.1\n",
      "Episode 90\tMean over an Episode: 34.2\tMoving Average: 25.2\n",
      "Episode 91\tMean over an Episode: 34.9\tMoving Average: 25.3\n",
      "Episode 92\tMean over an Episode: 34.9\tMoving Average: 25.4\n",
      "Episode 93\tMean over an Episode: 34.5\tMoving Average: 25.5\n",
      "Episode 94\tMean over an Episode: 35.3\tMoving Average: 25.6\n",
      "Episode 95\tMean over an Episode: 35.8\tMoving Average: 25.7\n",
      "Episode 96\tMean over an Episode: 35.1\tMoving Average: 25.8\n",
      "Episode 97\tMean over an Episode: 33.5\tMoving Average: 25.9\n",
      "Episode 98\tMean over an Episode: 34.5\tMoving Average: 26.0\n",
      "Episode 99\tMean over an Episode: 33.5\tMoving Average: 26.1\n",
      "Episode 100\tMean over an Episode: 35.2\tMoving Average: 26.1\n",
      "Episode 101\tMean over an Episode: 35.1\tMoving Average: 26.5\n",
      "Episode 102\tMean over an Episode: 34.2\tMoving Average: 26.8\n",
      "Episode 103\tMean over an Episode: 35.6\tMoving Average: 27.1\n",
      "Episode 104\tMean over an Episode: 35.4\tMoving Average: 27.4\n",
      "Episode 105\tMean over an Episode: 34.8\tMoving Average: 27.7\n",
      "Episode 106\tMean over an Episode: 35.5\tMoving Average: 28.0\n",
      "Episode 107\tMean over an Episode: 36.1\tMoving Average: 28.3\n",
      "Episode 108\tMean over an Episode: 36.2\tMoving Average: 28.6\n",
      "Episode 109\tMean over an Episode: 36.4\tMoving Average: 28.9\n",
      "Episode 110\tMean over an Episode: 36.4\tMoving Average: 29.1\n",
      "Episode 111\tMean over an Episode: 36.4\tMoving Average: 29.4\n",
      "Episode 112\tMean over an Episode: 35.9\tMoving Average: 29.6\n",
      "Episode 113\tMean over an Episode: 35.0\tMoving Average: 29.9\n",
      "Episode 114\tMean over an Episode: 35.2\tMoving Average: 30.1\n",
      "\n",
      "Agent trained successfully!\tMoving Average =30.1 over the last 100 episodes\n"
     ]
    }
   ],
   "source": [
    "def ddpg(n_episodes=500, max_t=1000, print_every=1, desired_reward=30.0, moving_average_lentgh=100, train_mode=True):\n",
    "    \n",
    "    episode_mean_scores = []                               \n",
    "    scores_buffer = deque(maxlen=moving_average_lentgh)  \n",
    "    moving_average = []                              \n",
    "    \n",
    "    for i_episode in range(1, n_episodes+1):\n",
    "        env_info = env.reset(train_mode=train_mode)[brain_name] \n",
    "        states = env_info.vector_observations                         \n",
    "        scores = np.zeros(num_agents)                           \n",
    "        agent.reset()\n",
    "        start_time = time.time()\n",
    "        for t in range(max_t):\n",
    "            actions = agent.act(states, add_noise=True)         \n",
    "            env_info = env.step(actions)[brain_name]            \n",
    "            next_states = env_info.vector_observations          \n",
    "            rewards = env_info.rewards                          \n",
    "            dones = env_info.local_done                         \n",
    "            # save experience from each agent to replay buffer\n",
    "            for state, action, reward, next_state, done in zip(states, actions, rewards, next_states, dones):\n",
    "                agent.step(state, action, reward, next_state, done, t)             \n",
    "            states = next_states\n",
    "            scores += rewards        \n",
    "            if np.any(dones):                                   \n",
    "                break\n",
    "   \n",
    "        episode_mean_scores.append(np.mean(scores))           \n",
    "        scores_buffer.append(episode_mean_scores[-1])         \n",
    "        moving_average.append(np.mean(scores_buffer))    \n",
    "                \n",
    "        if i_episode % print_every == 0:\n",
    "            print('\\rEpisode {}\\tMean over an Episode: {:.1f}\\tMoving Average: {:.1f}'.format(i_episode, episode_mean_scores[-1], moving_average[-1]))\n",
    "                         \n",
    "        if moving_average[-1] >= desired_reward and i_episode >= moving_average_lentgh and train_mode==True:\n",
    "            print('\\nAgent trained successfully!\\tMoving Average ={:.1f} over the last {} episodes'.format(\\\n",
    "                                    moving_average[-1], moving_average_lentgh))            \n",
    "            torch.save(agent.actor_local.state_dict(), 'checkpoint_actor.pth')\n",
    "            torch.save(agent.critic_local.state_dict(), 'checkpoint_critic.pth')\n",
    "            break\n",
    "            \n",
    "    return episode_mean_scores, moving_average\n",
    "\n",
    "# run the training loop\n",
    "agent = Agent(state_size=state_size, action_size=action_size, random_seed=1)\n",
    "episodic_mean, moving_average = ddpg()"
   ]
  },
  {
   "cell_type": "markdown",
   "metadata": {},
   "source": [
    "### 4. Plot of Rewards"
   ]
  },
  {
   "cell_type": "code",
   "execution_count": 6,
   "metadata": {},
   "outputs": [
    {
     "data": {
      "image/png": "[encoded data removed]",
      "text/plain": [
       "<Figure size 432x288 with 1 Axes>"
      ]
     },
     "metadata": {
      "needs_background": "light"
     },
     "output_type": "display_data"
    }
   ],
   "source": [
    "plt.plot(episodic_mean, label='Episodic Mean')\n",
    "plt.plot(moving_average, label='Moving Average')\n",
    "plt.legend()\n",
    "plt.ylabel('Score')\n",
    "plt.xlabel('Episode #')\n",
    "plt.show()"
   ]
  },
  {
   "cell_type": "code",
   "execution_count": 7,
   "metadata": {},
   "outputs": [],
   "source": [
    "env.close()"
   ]
  }
 ],
 "metadata": {
  "kernelspec": {
   "display_name": "Python 3",
   "language": "python",
   "name": "python3"
  },
  "language_info": {
   "codemirror_mode": {
    "name": "ipython",
    "version": 3
   },
   "file_extension": ".py",
   "mimetype": "text/x-python",
   "name": "python",
   "nbconvert_exporter": "python",
   "pygments_lexer": "ipython3",
   "version": "3.6.8"
  }
 },
 "nbformat": 4,
 "nbformat_minor": 2
}

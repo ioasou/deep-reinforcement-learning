{
 "cells": [
  {
   "cell_type": "markdown",
   "metadata": {},
   "source": [
    "# Collaboration and Competion Project Solution\n",
    "\n",
    "---\n",
    "\n",
    "**Author:** _Ioannis Souflas_\n",
    "\n",
    "\n",
    "**Description:** The objective of this project is to train two agents to control rackets to bounce a ball over a net using Unity's [Tennis](https://github.com/Unity-Technologies/ml-agents/blob/master/docs/Learning-Environment-Examples.md#tennis) enviroment. For this purpose, a modified version of the original [DDPG](https://arxiv.org/pdf/1509.02971.pdf) algorithm will be used.\n",
    "\n",
    "\n",
    "**External References:** [DDPG Algorithm - DeepMind](https://arxiv.org/pdf/1509.02971.pdf), [MADDPG Algorithm - DeepMind](https://papers.nips.cc/paper/7217-multi-agent-actor-critic-for-mixed-cooperative-competitive-environments.pdf)\n",
    "\n",
    "### 1. Start the Environment\n",
    "\n",
    "We begin by importing the necessary packages.  If the code cell below returns an error, please that you have installed [Unity ML-Agents](https://pypi.org/project/unityagents/), [NumPy](http://www.numpy.org/), [Matplotlib](https://matplotlib.org/), [Collections](https://docs.python.org/2/library/collections.html), [Random](https://docs.python.org/2/library/random.html), [Time](https://docs.python.org/2/library/time.html) and [PyTorch](https://pytorch.org/)."
   ]
  },
  {
   "cell_type": "code",
   "execution_count": 1,
   "metadata": {},
   "outputs": [],
   "source": [
    "from unityagents import UnityEnvironment \n",
    "import numpy as np \n",
    "import matplotlib.pyplot as plt\n",
    "from collections import deque\n",
    "import random\n",
    "import time\n",
    "import torch\n",
    "\n",
    "# ddpg algorithm\n",
    "from ddpg_agent import Agent"
   ]
  },
  {
   "cell_type": "markdown",
   "metadata": {},
   "source": [
    "Next, we will start the environment!  **_Before running the code cell below_**, change the `file_name` parameter to match the location of the Unity environment that you downloaded.\n",
    "\n",
    "- **Mac**: `\"path/to/Tennis.app\"`\n",
    "- **Windows** (x86): `\"path/to/Tennis_Windows_x86/Tennis.exe\"`\n",
    "- **Windows** (x86_64): `\"path/to/Tennis_Windows_x86_64/Tennis.exe\"`\n",
    "- **Linux** (x86): `\"path/to/Tennis_Linux/Tennis.x86\"`\n",
    "- **Linux** (x86_64): `\"path/to/Tennis_Linux/Tennis.x86_64\"`\n",
    "- **Linux** (x86, headless): `\"path/to/Tennis_Linux_NoVis/Tennis.x86\"`\n",
    "- **Linux** (x86_64, headless): `\"path/to/Tennis_Linux_NoVis/Tennis.x86_64\"`\n",
    "\n",
    "For instance, if you are using a Mac, then you downloaded `Tennis.app`.  If this file is in the same folder as the notebook, then the line below should appear as follows:\n",
    "```\n",
    "env = UnityEnvironment(file_name=\"Tennis.app\")\n",
    "```\n",
    "\n",
    "The current configuration is **Linux** (x86_64, headless)."
   ]
  },
  {
   "cell_type": "code",
   "execution_count": 2,
   "metadata": {},
   "outputs": [
    {
     "name": "stderr",
     "output_type": "stream",
     "text": [
      "INFO:unityagents:\n",
      "'Academy' started successfully!\n",
      "Unity Academy name: Academy\n",
      "        Number of Brains: 1\n",
      "        Number of External Brains : 1\n",
      "        Lesson number : 0\n",
      "        Reset Parameters :\n",
      "\t\t\n",
      "Unity brain name: TennisBrain\n",
      "        Number of Visual Observations (per agent): 0\n",
      "        Vector Observation space type: continuous\n",
      "        Vector Observation space size (per agent): 8\n",
      "        Number of stacked Vector Observation: 3\n",
      "        Vector Action space type: continuous\n",
      "        Vector Action space size (per agent): 2\n",
      "        Vector Action descriptions: , \n"
     ]
    }
   ],
   "source": [
    "env = UnityEnvironment(file_name=\"../../p3_collab-compet/Tennis_Linux_NoVis/Tennis.x86_64\")"
   ]
  },
  {
   "cell_type": "markdown",
   "metadata": {},
   "source": [
    "Environments contain **_brains_** which are responsible for deciding the actions of their associated agents. Here we check for the first brain available, and set it as the default brain we will be controlling from Python."
   ]
  },
  {
   "cell_type": "code",
   "execution_count": 3,
   "metadata": {},
   "outputs": [],
   "source": [
    "# get the default brain\n",
    "brain_name = env.brain_names[0]\n",
    "brain = env.brains[brain_name]"
   ]
  },
  {
   "cell_type": "markdown",
   "metadata": {},
   "source": [
    "### 2. Examine the State and Action Spaces\n",
    "\n",
    "In this environment, two agents control rackets to bounce a ball over a net. If an agent hits the ball over the net, it receives a reward of +0.1.  If an agent lets a ball hit the ground or hits the ball out of bounds, it receives a reward of -0.01.  Thus, the goal of each agent is to keep the ball in play.\n",
    "\n",
    "The observation space consists of 8 variables corresponding to the position and velocity of the ball and racket. Each agent receives its own, local observation.  Two continuous actions are available, corresponding to movement toward (or away from) the net, and jumping. \n",
    "\n",
    "Run the code cell below to print some information about the environment."
   ]
  },
  {
   "cell_type": "code",
   "execution_count": 4,
   "metadata": {},
   "outputs": [
    {
     "name": "stdout",
     "output_type": "stream",
     "text": [
      "Number of agents: 2\n",
      "Size of each action: 2\n",
      "There are 2 agents. Each observes a state with length: 24\n",
      "The shape of the state space looks like: (2, 24)\n",
      "The state for the first agent looks like: [ 0.          0.          0.          0.          0.          0.\n",
      "  0.          0.          0.          0.          0.          0.\n",
      "  0.          0.          0.          0.         -6.65278625 -1.5\n",
      " -0.          0.          6.83172083  6.         -0.          0.        ]\n"
     ]
    }
   ],
   "source": [
    "# reset the environment\n",
    "env_info = env.reset(train_mode=True)[brain_name]\n",
    "\n",
    "# number of agents\n",
    "num_agents = len(env_info.agents)\n",
    "print('Number of agents:', num_agents)\n",
    "\n",
    "# size of each action\n",
    "action_size = brain.vector_action_space_size\n",
    "print('Size of each action:', action_size)\n",
    "\n",
    "# examine the state space \n",
    "states = env_info.vector_observations\n",
    "state_size = states.shape[1]\n",
    "print('There are {} agents. Each observes a state with length: {}'.format(states.shape[0], state_size))\n",
    "print('The shape of the state space looks like:', states.shape)\n",
    "print('The state for the first agent looks like:', states[0])"
   ]
  },
  {
   "cell_type": "markdown",
   "metadata": {},
   "source": [
    "Note that this enviroment consists of 2 agents, as a results there are 2 different state spaces each having 3 vectors with 8 observations i.e. (2, 24)."
   ]
  },
  {
   "cell_type": "markdown",
   "metadata": {},
   "source": [
    "### 3. DDPG Agent Training Pipeline\n",
    "\n",
    "The `ddpg` function is making use of the `Agent` class in order to train the two different agents. Note that each each agent has a single objective i.e. to hit and pass the ball over the net."
   ]
  },
  {
   "cell_type": "code",
   "execution_count": 5,
   "metadata": {},
   "outputs": [
    {
     "name": "stdout",
     "output_type": "stream",
     "text": [
      "Episode 100\tMean over an Episode: -0.00\tMoving Average: -0.00\n",
      "Episode 200\tMean over an Episode: -0.00\tMoving Average: 0.00\n",
      "Episode 300\tMean over an Episode: -0.00\tMoving Average: 0.00\n",
      "Episode 400\tMean over an Episode: -0.00\tMoving Average: -0.00\n",
      "Episode 500\tMean over an Episode: -0.00\tMoving Average: 0.01\n",
      "Episode 600\tMean over an Episode: 0.10\tMoving Average: 0.01\n",
      "Episode 700\tMean over an Episode: -0.00\tMoving Average: 0.01\n",
      "Episode 800\tMean over an Episode: 0.05\tMoving Average: 0.04\n",
      "Episode 900\tMean over an Episode: 0.05\tMoving Average: 0.09\n",
      "Episode 1000\tMean over an Episode: 0.05\tMoving Average: 0.11\n",
      "Episode 1100\tMean over an Episode: 0.15\tMoving Average: 0.13\n",
      "Episode 1200\tMean over an Episode: 0.30\tMoving Average: 0.16\n",
      "Episode 1300\tMean over an Episode: -0.00\tMoving Average: 0.18\n",
      "Episode 1400\tMean over an Episode: 0.50\tMoving Average: 0.25\n",
      "Episode 1500\tMean over an Episode: 0.05\tMoving Average: 0.38\n",
      "Episode 1600\tMean over an Episode: 0.45\tMoving Average: 0.24\n",
      "Episode 1700\tMean over an Episode: 0.20\tMoving Average: 0.26\n",
      "Episode 1800\tMean over an Episode: 0.10\tMoving Average: 0.21\n",
      "Episode 1900\tMean over an Episode: 0.15\tMoving Average: 0.45\n",
      "\n",
      "Agents trained successfully!\tMoving Average =0.52 over the last 100 episodes\n"
     ]
    }
   ],
   "source": [
    "def ddpg(n_episodes=10000, print_every=100, desired_reward=0.5, moving_average_lentgh=100, train_mode=True):\n",
    "    \n",
    "    episode_mean_scores = []                               \n",
    "    scores_buffer = deque(maxlen=moving_average_lentgh)  \n",
    "    moving_average = []       \n",
    "        \n",
    "    for i_episode in range(1, n_episodes+1):\n",
    "        env_info = env.reset(train_mode=train_mode)[brain_name] \n",
    "        states = env_info.vector_observations                         \n",
    "        scores = np.zeros(num_agents)                           \n",
    "        agents.reset()\n",
    "        while True:\n",
    "            actions = agents.act(states, add_noise=True)         \n",
    "            env_info = env.step(actions)[brain_name]            \n",
    "            next_states = env_info.vector_observations          \n",
    "            rewards = env_info.rewards                          \n",
    "            dones = env_info.local_done                         \n",
    "            agents.step(states, actions, rewards, next_states, dones)             \n",
    "            states = next_states\n",
    "            scores += rewards \n",
    "            if np.any(dones):                                   \n",
    "                break\n",
    "   \n",
    "        episode_mean_scores.append(np.mean(scores))           \n",
    "        scores_buffer.append(episode_mean_scores[-1])         \n",
    "        moving_average.append(np.mean(scores_buffer))    \n",
    "                \n",
    "        if i_episode % print_every == 0:\n",
    "            print('\\rEpisode {}\\tMean over an Episode: {:.2f}\\tMoving Average: {:.2f}'.format(i_episode, episode_mean_scores[-1], moving_average[-1]))\n",
    "                         \n",
    "        if moving_average[-1] >= desired_reward and i_episode >= moving_average_lentgh and train_mode==True:\n",
    "            print('\\nAgents trained successfully!\\tMoving Average ={:.2f} over the last {} episodes'.format(\\\n",
    "                                    moving_average[-1], moving_average_lentgh))            \n",
    "            torch.save(agents.actor_local.state_dict(), 'checkpoint_actor.pth')\n",
    "            torch.save(agents.critic_local.state_dict(), 'checkpoint_critic.pth')\n",
    "            break\n",
    "            \n",
    "    return episode_mean_scores, moving_average\n",
    "\n",
    "# run the training loop\n",
    "agents = Agent(state_size=state_size, action_size=action_size, num_agents=num_agents, random_seed=0)\n",
    "episodic_mean, moving_average = ddpg()"
   ]
  },
  {
   "cell_type": "markdown",
   "metadata": {},
   "source": [
    "### 4. Plot of Rewards"
   ]
  },
  {
   "cell_type": "code",
   "execution_count": 6,
   "metadata": {},
   "outputs": [
    {
     "data": {
      "image/png": "[encoded data removed]",
      "text/plain": [
       "<Figure size 432x288 with 1 Axes>"
      ]
     },
     "metadata": {
      "needs_background": "light"
     },
     "output_type": "display_data"
    }
   ],
   "source": [
    "plt.plot(episodic_mean, label='Episodic Mean')\n",
    "plt.plot(moving_average, label='Moving Average')\n",
    "plt.legend()\n",
    "plt.ylabel('Score')\n",
    "plt.xlabel('Episode #')\n",
    "plt.show()"
   ]
  },
  {
   "cell_type": "code",
   "execution_count": 7,
   "metadata": {},
   "outputs": [],
   "source": [
    "env.close()"
   ]
  }
 ],
 "metadata": {
  "kernelspec": {
   "display_name": "Python 3",
   "language": "python",
   "name": "python3"
  },
  "language_info": {
   "codemirror_mode": {
    "name": "ipython",
    "version": 3
   },
   "file_extension": ".py",
   "mimetype": "text/x-python",
   "name": "python",
   "nbconvert_exporter": "python",
   "pygments_lexer": "ipython3",
   "version": "3.6.8"
  }
 },
 "nbformat": 4,
 "nbformat_minor": 2
}
